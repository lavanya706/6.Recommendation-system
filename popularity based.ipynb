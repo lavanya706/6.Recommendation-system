{
 "cells": [
  {
   "cell_type": "code",
   "execution_count": 1,
   "id": "a75cee0c",
   "metadata": {},
   "outputs": [],
   "source": [
    "import pandas as pd\n",
    "import numpy as np"
   ]
  },
  {
   "cell_type": "code",
   "execution_count": 2,
   "id": "8362985b",
   "metadata": {},
   "outputs": [],
   "source": [
    "# Read the ratings file\n",
    "r_cols = ['user_id', 'movie_id', 'rating', 'unix_timestamp']\n",
    "ratings = pd.read_csv('ml-100k/u.data', sep='\\t', names=r_cols, encoding='latin-1')"
   ]
  },
  {
   "cell_type": "code",
   "execution_count": 3,
   "id": "3d49b618",
   "metadata": {},
   "outputs": [],
   "source": [
    "# Read the movie dataset\n",
    "i_cols = ['movie_id', 'movie_title', 'release_date', 'video_release_date', 'IMDb_URL', 'unknown', 'Action', 'Adventure',\n",
    "          'Animation', 'Children\\'s', 'Comedy', 'Crime', 'Documentary', 'Drama', 'Fantasy', 'Film-Noir', 'Horror',\n",
    "          'Musical', 'Mystery', 'Romance', 'Sci-Fi', 'Thriller', 'War', 'Western']\n",
    "items = pd.read_csv('ml-100k/u.item', sep='|', names=i_cols, encoding='latin-1')\n"
   ]
  },
  {
   "cell_type": "code",
   "execution_count": 4,
   "id": "79c520ba",
   "metadata": {},
   "outputs": [],
   "source": [
    "# Calculate the average rating for each movie\n",
    "movie_ratings = ratings.groupby('movie_id')['rating'].mean()"
   ]
  },
  {
   "cell_type": "code",
   "execution_count": 5,
   "id": "f22d03bc",
   "metadata": {},
   "outputs": [],
   "source": [
    "# Calculate the number of ratings for each movie\n",
    "num_ratings = ratings.groupby('movie_id')['rating'].count()"
   ]
  },
  {
   "cell_type": "code",
   "execution_count": 6,
   "id": "367d9ec1",
   "metadata": {},
   "outputs": [],
   "source": [
    "# Create a DataFrame to store average ratings and number of ratings for each movie\n",
    "movie_info = pd.DataFrame({'avg_rating': movie_ratings, 'num_ratings': num_ratings})"
   ]
  },
  {
   "cell_type": "code",
   "execution_count": 7,
   "id": "e4134dde",
   "metadata": {},
   "outputs": [],
   "source": [
    "# Sort the movies by average rating and number of ratings\n",
    "popular_movies = movie_info.sort_values(by=['avg_rating', 'num_ratings'], ascending=False)"
   ]
  },
  {
   "cell_type": "code",
   "execution_count": 8,
   "id": "adfd2db7",
   "metadata": {},
   "outputs": [],
   "source": [
    "# Get the top N most popular movies\n",
    "N = 10  # Change this to get the top N most popular movies\n",
    "top_n_popular_movies = popular_movies.head(N)"
   ]
  },
  {
   "cell_type": "code",
   "execution_count": 9,
   "id": "f9b7380d",
   "metadata": {},
   "outputs": [],
   "source": [
    "# Fetch movie titles using movie IDs\n",
    "top_n_movie_titles = items.loc[top_n_popular_movies.index]['movie_title'].tolist()"
   ]
  },
  {
   "cell_type": "code",
   "execution_count": 10,
   "id": "ca084dfa",
   "metadata": {},
   "outputs": [
    {
     "name": "stdout",
     "output_type": "stream",
     "text": [
      "Top 10 Most Popular Movies:\n",
      "1 . That Old Feeling (1997)\n",
      "2 . Ayn Rand: A Sense of Life (1997)\n",
      "3 . Cure, The (1995)\n",
      "4 . Prisoner of the Mountains (Kavkazsky Plennik) (1996)\n",
      "5 . One Fine Day (1996)\n",
      "6 . Last Time I Saw Paris, The (1954)\n",
      "7 . Maybe, Maybe Not (Bewegte Mann, Der) (1994)\n",
      "8 . Cosi (1996)\n",
      "9 . Guantanamera (1994)\n",
      "10 . Chairman of the Board (1998)\n"
     ]
    }
   ],
   "source": [
    "# Display the list of top N most popular movies\n",
    "print(\"Top\", N, \"Most Popular Movies:\")\n",
    "for i, title in enumerate(top_n_movie_titles, 1):\n",
    "    print(i, \".\", title)"
   ]
  },
  {
   "cell_type": "code",
   "execution_count": null,
   "id": "038a1e2b",
   "metadata": {},
   "outputs": [],
   "source": []
  }
 ],
 "metadata": {
  "kernelspec": {
   "display_name": "Python 3 (ipykernel)",
   "language": "python",
   "name": "python3"
  },
  "language_info": {
   "codemirror_mode": {
    "name": "ipython",
    "version": 3
   },
   "file_extension": ".py",
   "mimetype": "text/x-python",
   "name": "python",
   "nbconvert_exporter": "python",
   "pygments_lexer": "ipython3",
   "version": "3.7.16"
  }
 },
 "nbformat": 4,
 "nbformat_minor": 5
}
